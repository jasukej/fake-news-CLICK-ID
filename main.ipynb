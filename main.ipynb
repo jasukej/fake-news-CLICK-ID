{
 "cells": [
  {
   "cell_type": "code",
   "execution_count": 2,
   "id": "33f65a5c",
   "metadata": {},
   "outputs": [],
   "source": [
    "import pandas as pd\n",
    "import numpy as np\n",
    "from sklearn.model_selection import train_test_split\n",
    "from sklearn.metrics import classification_report\n",
    "import re\n",
    "import string\n",
    "\n",
    "import statsmodels.api as sm\n",
    "from sklearn.metrics import log_loss"
   ]
  },
  {
   "cell_type": "code",
   "execution_count": 3,
   "id": "307e53d0",
   "metadata": {},
   "outputs": [],
   "source": [
    "df_fake = pd.read_csv(\"fake.csv\")\n",
    "df_true = pd.read_csv(\"true.csv\")"
   ]
  },
  {
   "cell_type": "code",
   "execution_count": 4,
   "id": "55a9fdd8",
   "metadata": {},
   "outputs": [
    {
     "data": {
      "text/html": [
       "<div>\n",
       "<style scoped>\n",
       "    .dataframe tbody tr th:only-of-type {\n",
       "        vertical-align: middle;\n",
       "    }\n",
       "\n",
       "    .dataframe tbody tr th {\n",
       "        vertical-align: top;\n",
       "    }\n",
       "\n",
       "    .dataframe thead th {\n",
       "        text-align: right;\n",
       "    }\n",
       "</style>\n",
       "<table border=\"1\" class=\"dataframe\">\n",
       "  <thead>\n",
       "    <tr style=\"text-align: right;\">\n",
       "      <th></th>\n",
       "      <th>title</th>\n",
       "      <th>content</th>\n",
       "      <th>date</th>\n",
       "      <th>sub-category</th>\n",
       "      <th>label</th>\n",
       "    </tr>\n",
       "  </thead>\n",
       "  <tbody>\n",
       "    <tr>\n",
       "      <th>6050</th>\n",
       "      <td>Divonis 3 Bulan, Kasus Pedangdut Xena Xenita y...</td>\n",
       "      <td>Akibatnya, , yang dijerat pasal perzinaan, div...</td>\n",
       "      <td>19-Sep-19</td>\n",
       "      <td>Seleb</td>\n",
       "      <td>1</td>\n",
       "    </tr>\n",
       "    <tr>\n",
       "      <th>6051</th>\n",
       "      <td>Ramalan Zodiak Cinta Kamis 19 September 2019, ...</td>\n",
       "      <td>- Bagaimana kelangsungan kisah asmara konon bi...</td>\n",
       "      <td>19-Sep-19</td>\n",
       "      <td>Lifestyle</td>\n",
       "      <td>1</td>\n",
       "    </tr>\n",
       "    <tr>\n",
       "      <th>6052</th>\n",
       "      <td>Namanya Disebut Jadi Calon Wali Kota Manado, E...</td>\n",
       "      <td>Nama gitaris grup band Ungu Franco Wellyjat a...</td>\n",
       "      <td>19-Sep-19</td>\n",
       "      <td>Seleb</td>\n",
       "      <td>1</td>\n",
       "    </tr>\n",
       "    <tr>\n",
       "      <th>6053</th>\n",
       "      <td>Catatan Real Madrid Kalah dari PSG di Liga Cha...</td>\n",
       "      <td>- , berhasil menaklukan hadangan juara , tiga...</td>\n",
       "      <td>19-Sep-19</td>\n",
       "      <td>Super Skor</td>\n",
       "      <td>1</td>\n",
       "    </tr>\n",
       "    <tr>\n",
       "      <th>6054</th>\n",
       "      <td>Ramalan Zodiak Kamis 19 September 2019, Scorpi...</td>\n",
       "      <td>- Berikut ramalan lengkap 12 zodiak, Kamis (19...</td>\n",
       "      <td>19-Sep-19</td>\n",
       "      <td>Lifestyle</td>\n",
       "      <td>1</td>\n",
       "    </tr>\n",
       "    <tr>\n",
       "      <th>6055</th>\n",
       "      <td>Hari Terakhir Lowongan Kerja Bank Indonesia Se...</td>\n",
       "      <td>Hari terakhir pendaftaran lowongan kerja , ,,...</td>\n",
       "      <td>19-Sep-19</td>\n",
       "      <td>Nasional</td>\n",
       "      <td>1</td>\n",
       "    </tr>\n",
       "    <tr>\n",
       "      <th>6056</th>\n",
       "      <td>Kronologi Duel Pelajar SMP, Korban Meninggal D...</td>\n",
       "      <td>Kasatreskrim Polres,Grobogan,AKP Agus Supriyad...</td>\n",
       "      <td>19-Sep-19</td>\n",
       "      <td>Regional</td>\n",
       "      <td>1</td>\n",
       "    </tr>\n",
       "    <tr>\n",
       "      <th>6057</th>\n",
       "      <td>10 Wisata Negeri di Atas Awan yang Cocok Dikun...</td>\n",
       "      <td>¬†Tengah viral di medsos tentang beberapa temp...</td>\n",
       "      <td>19-Sep-19</td>\n",
       "      <td>Travel</td>\n",
       "      <td>1</td>\n",
       "    </tr>\n",
       "    <tr>\n",
       "      <th>6058</th>\n",
       "      <td>Ekspresi Neymar dan Mbappe saat PSG Tekuk Real...</td>\n",
       "      <td>- , mengawali langkah yang baik menuju gelar ...</td>\n",
       "      <td>19-Sep-19</td>\n",
       "      <td>Super Skor</td>\n",
       "      <td>1</td>\n",
       "    </tr>\n",
       "    <tr>\n",
       "      <th>6059</th>\n",
       "      <td>Presenter, Aktor, Produser dan Pebisnis, Profe...</td>\n",
       "      <td>, kini tak hanya dikenal sebagai , saja. Ia j...</td>\n",
       "      <td>19-Sep-19</td>\n",
       "      <td>Seleb</td>\n",
       "      <td>1</td>\n",
       "    </tr>\n",
       "  </tbody>\n",
       "</table>\n",
       "</div>"
      ],
      "text/plain": [
       "                                                  title  \\\n",
       "6050  Divonis 3 Bulan, Kasus Pedangdut Xena Xenita y...   \n",
       "6051  Ramalan Zodiak Cinta Kamis 19 September 2019, ...   \n",
       "6052  Namanya Disebut Jadi Calon Wali Kota Manado, E...   \n",
       "6053  Catatan Real Madrid Kalah dari PSG di Liga Cha...   \n",
       "6054  Ramalan Zodiak Kamis 19 September 2019, Scorpi...   \n",
       "6055  Hari Terakhir Lowongan Kerja Bank Indonesia Se...   \n",
       "6056  Kronologi Duel Pelajar SMP, Korban Meninggal D...   \n",
       "6057  10 Wisata Negeri di Atas Awan yang Cocok Dikun...   \n",
       "6058  Ekspresi Neymar dan Mbappe saat PSG Tekuk Real...   \n",
       "6059  Presenter, Aktor, Produser dan Pebisnis, Profe...   \n",
       "\n",
       "                                                content       date  \\\n",
       "6050  Akibatnya, , yang dijerat pasal perzinaan, div...  19-Sep-19   \n",
       "6051  - Bagaimana kelangsungan kisah asmara konon bi...  19-Sep-19   \n",
       "6052   Nama gitaris grup band Ungu Franco Wellyjat a...  19-Sep-19   \n",
       "6053   - , berhasil menaklukan hadangan juara , tiga...  19-Sep-19   \n",
       "6054  - Berikut ramalan lengkap 12 zodiak, Kamis (19...  19-Sep-19   \n",
       "6055   Hari terakhir pendaftaran lowongan kerja , ,,...  19-Sep-19   \n",
       "6056  Kasatreskrim Polres,Grobogan,AKP Agus Supriyad...  19-Sep-19   \n",
       "6057  ¬†Tengah viral di medsos tentang beberapa temp...  19-Sep-19   \n",
       "6058   - , mengawali langkah yang baik menuju gelar ...  19-Sep-19   \n",
       "6059   , kini tak hanya dikenal sebagai , saja. Ia j...  19-Sep-19   \n",
       "\n",
       "     sub-category  label  \n",
       "6050        Seleb      1  \n",
       "6051    Lifestyle      1  \n",
       "6052        Seleb      1  \n",
       "6053   Super Skor      1  \n",
       "6054    Lifestyle      1  \n",
       "6055     Nasional      1  \n",
       "6056     Regional      1  \n",
       "6057       Travel      1  \n",
       "6058   Super Skor      1  \n",
       "6059        Seleb      1  "
      ]
     },
     "execution_count": 4,
     "metadata": {},
     "output_type": "execute_result"
    }
   ],
   "source": [
    "df_fake.tail(10)"
   ]
  },
  {
   "cell_type": "code",
   "execution_count": 5,
   "id": "44a9173d",
   "metadata": {},
   "outputs": [
    {
     "data": {
      "text/html": [
       "<div>\n",
       "<style scoped>\n",
       "    .dataframe tbody tr th:only-of-type {\n",
       "        vertical-align: middle;\n",
       "    }\n",
       "\n",
       "    .dataframe tbody tr th {\n",
       "        vertical-align: top;\n",
       "    }\n",
       "\n",
       "    .dataframe thead th {\n",
       "        text-align: right;\n",
       "    }\n",
       "</style>\n",
       "<table border=\"1\" class=\"dataframe\">\n",
       "  <thead>\n",
       "    <tr style=\"text-align: right;\">\n",
       "      <th></th>\n",
       "      <th>title</th>\n",
       "      <th>content</th>\n",
       "      <th>date</th>\n",
       "      <th>sub-category</th>\n",
       "      <th>label</th>\n",
       "    </tr>\n",
       "  </thead>\n",
       "  <tbody>\n",
       "    <tr>\n",
       "      <th>0</th>\n",
       "      <td>Masuk Radar Pilwalkot Medan, Menantu Jokowi Be...</td>\n",
       "      <td>Medan - Menantu Jokowi, Bobby Afif Nasution, m...</td>\n",
       "      <td>10-Sep-19</td>\n",
       "      <td>Berita</td>\n",
       "      <td>0</td>\n",
       "    </tr>\n",
       "    <tr>\n",
       "      <th>1</th>\n",
       "      <td>Malaysia Sudutkan RI: Isu Kabut Asap hingga In...</td>\n",
       "      <td>Jakarta - Malaysia kembali menyerang pemerinta...</td>\n",
       "      <td>10-Sep-19</td>\n",
       "      <td>Berita</td>\n",
       "      <td>0</td>\n",
       "    </tr>\n",
       "    <tr>\n",
       "      <th>2</th>\n",
       "      <td>Kemensos Salurkan Rp 7,3 M bagi Korban Kerusuh...</td>\n",
       "      <td>Jakarta - Kementerian Sosial (Kemensos) menyal...</td>\n",
       "      <td>10-Sep-19</td>\n",
       "      <td>Berita</td>\n",
       "      <td>0</td>\n",
       "    </tr>\n",
       "    <tr>\n",
       "      <th>3</th>\n",
       "      <td>Uang Rp 1,6 M yang Raib di Parkiran Kantor Gub...</td>\n",
       "      <td>Medan - Uang sebanyak Rp 1.672.985.500 milik P...</td>\n",
       "      <td>9/10/2019</td>\n",
       "      <td>Berita</td>\n",
       "      <td>0</td>\n",
       "    </tr>\n",
       "    <tr>\n",
       "      <th>4</th>\n",
       "      <td>MPR: Amandemen UUD 1945 Tak Akan Melebar ke Ma...</td>\n",
       "      <td>Jakarta - Anggota Badan Pengkajian MPR RI Bamb...</td>\n",
       "      <td>10-Sep-19</td>\n",
       "      <td>Berita</td>\n",
       "      <td>0</td>\n",
       "    </tr>\n",
       "    <tr>\n",
       "      <th>5</th>\n",
       "      <td>Peringati Tahun Baru Islam, Banyuwangi Kembali...</td>\n",
       "      <td>Banyuwangi - Memperingati Tahun Baru Islam 144...</td>\n",
       "      <td>10-Sep-19</td>\n",
       "      <td>Berita-jawa-timur</td>\n",
       "      <td>0</td>\n",
       "    </tr>\n",
       "    <tr>\n",
       "      <th>6</th>\n",
       "      <td>Wanita Asal Kendari Nyaris Diperkosa di Jalana...</td>\n",
       "      <td>Makassar - Perempuan berusia 20 tahun asal Kot...</td>\n",
       "      <td>10-Sep-19</td>\n",
       "      <td>Berita</td>\n",
       "      <td>0</td>\n",
       "    </tr>\n",
       "    <tr>\n",
       "      <th>7</th>\n",
       "      <td>HNW Sebut GBHN Jamin Rencana Pembangunan RI Ja...</td>\n",
       "      <td>Jakarta - Wakil Ketua MPR RI Hidayat Nur Wahid...</td>\n",
       "      <td>10-Sep-19</td>\n",
       "      <td>Berita</td>\n",
       "      <td>0</td>\n",
       "    </tr>\n",
       "    <tr>\n",
       "      <th>8</th>\n",
       "      <td>JakPro Jawab Protes Adhi Karya soal Tender Pro...</td>\n",
       "      <td>Jakarta - PT Jakarta Propertindo (JakPro) menj...</td>\n",
       "      <td>10-Sep-19</td>\n",
       "      <td>Berita</td>\n",
       "      <td>0</td>\n",
       "    </tr>\n",
       "    <tr>\n",
       "      <th>9</th>\n",
       "      <td>Mayat di Ladang Tebu Malang Adalah Begal, Dibu...</td>\n",
       "      <td>Malang - Dalam waktu kurang dari 24 jam, polis...</td>\n",
       "      <td>10-Sep-19</td>\n",
       "      <td>Berita-jawa-timur</td>\n",
       "      <td>0</td>\n",
       "    </tr>\n",
       "  </tbody>\n",
       "</table>\n",
       "</div>"
      ],
      "text/plain": [
       "                                               title  \\\n",
       "0  Masuk Radar Pilwalkot Medan, Menantu Jokowi Be...   \n",
       "1  Malaysia Sudutkan RI: Isu Kabut Asap hingga In...   \n",
       "2  Kemensos Salurkan Rp 7,3 M bagi Korban Kerusuh...   \n",
       "3  Uang Rp 1,6 M yang Raib di Parkiran Kantor Gub...   \n",
       "4  MPR: Amandemen UUD 1945 Tak Akan Melebar ke Ma...   \n",
       "5  Peringati Tahun Baru Islam, Banyuwangi Kembali...   \n",
       "6  Wanita Asal Kendari Nyaris Diperkosa di Jalana...   \n",
       "7  HNW Sebut GBHN Jamin Rencana Pembangunan RI Ja...   \n",
       "8  JakPro Jawab Protes Adhi Karya soal Tender Pro...   \n",
       "9  Mayat di Ladang Tebu Malang Adalah Begal, Dibu...   \n",
       "\n",
       "                                             content       date  \\\n",
       "0  Medan - Menantu Jokowi, Bobby Afif Nasution, m...  10-Sep-19   \n",
       "1  Jakarta - Malaysia kembali menyerang pemerinta...  10-Sep-19   \n",
       "2  Jakarta - Kementerian Sosial (Kemensos) menyal...  10-Sep-19   \n",
       "3  Medan - Uang sebanyak Rp 1.672.985.500 milik P...  9/10/2019   \n",
       "4  Jakarta - Anggota Badan Pengkajian MPR RI Bamb...  10-Sep-19   \n",
       "5  Banyuwangi - Memperingati Tahun Baru Islam 144...  10-Sep-19   \n",
       "6  Makassar - Perempuan berusia 20 tahun asal Kot...  10-Sep-19   \n",
       "7  Jakarta - Wakil Ketua MPR RI Hidayat Nur Wahid...  10-Sep-19   \n",
       "8  Jakarta - PT Jakarta Propertindo (JakPro) menj...  10-Sep-19   \n",
       "9  Malang - Dalam waktu kurang dari 24 jam, polis...  10-Sep-19   \n",
       "\n",
       "        sub-category  label  \n",
       "0             Berita      0  \n",
       "1             Berita      0  \n",
       "2             Berita      0  \n",
       "3             Berita      0  \n",
       "4             Berita      0  \n",
       "5  Berita-jawa-timur      0  \n",
       "6             Berita      0  \n",
       "7             Berita      0  \n",
       "8             Berita      0  \n",
       "9  Berita-jawa-timur      0  "
      ]
     },
     "execution_count": 5,
     "metadata": {},
     "output_type": "execute_result"
    }
   ],
   "source": [
    "df_true.head(10)"
   ]
  },
  {
   "cell_type": "code",
   "execution_count": 6,
   "id": "fb3cace6",
   "metadata": {},
   "outputs": [],
   "source": [
    "df_fake[\"class\"] = 0\n",
    "df_true[\"class\"] = 1"
   ]
  },
  {
   "cell_type": "code",
   "execution_count": 7,
   "id": "1949b923",
   "metadata": {},
   "outputs": [
    {
     "data": {
      "text/plain": [
       "((6060, 6), (8105, 6))"
      ]
     },
     "execution_count": 7,
     "metadata": {},
     "output_type": "execute_result"
    }
   ],
   "source": [
    "df_fake.shape, df_true.shape"
   ]
  },
  {
   "cell_type": "code",
   "execution_count": 8,
   "id": "39b23970",
   "metadata": {},
   "outputs": [],
   "source": [
    "df_fake_manual_testing = df_fake.tail(10)\n",
    "for i in range(6059, 6049, -1):\n",
    "    df_fake.drop([i], axis = 0, inplace = True)\n",
    "    \n",
    "df_true_manual_testing = df_true.tail(10)\n",
    "for i in range(8104, 8094, -1):\n",
    "    df_true.drop([i], axis = 0, inplace = True)"
   ]
  },
  {
   "cell_type": "code",
   "execution_count": 9,
   "id": "622de052",
   "metadata": {},
   "outputs": [],
   "source": [
    "df_manual_testing = pd.concat([df_fake_manual_testing, df_true_manual_testing], axis = 0)\n",
    "df_manual_testing.to_csv(\"manual_testing.csv\")"
   ]
  },
  {
   "cell_type": "code",
   "execution_count": 10,
   "id": "513dafa3",
   "metadata": {},
   "outputs": [
    {
     "data": {
      "text/html": [
       "<div>\n",
       "<style scoped>\n",
       "    .dataframe tbody tr th:only-of-type {\n",
       "        vertical-align: middle;\n",
       "    }\n",
       "\n",
       "    .dataframe tbody tr th {\n",
       "        vertical-align: top;\n",
       "    }\n",
       "\n",
       "    .dataframe thead th {\n",
       "        text-align: right;\n",
       "    }\n",
       "</style>\n",
       "<table border=\"1\" class=\"dataframe\">\n",
       "  <thead>\n",
       "    <tr style=\"text-align: right;\">\n",
       "      <th></th>\n",
       "      <th>title</th>\n",
       "      <th>content</th>\n",
       "      <th>date</th>\n",
       "      <th>sub-category</th>\n",
       "      <th>label</th>\n",
       "      <th>class</th>\n",
       "    </tr>\n",
       "  </thead>\n",
       "  <tbody>\n",
       "    <tr>\n",
       "      <th>0</th>\n",
       "      <td>Viral! Driver Ojol di Bekasi Antar Pesanan Mak...</td>\n",
       "      <td>Bekasi - Seorang driver ojek online di Bekasi ...</td>\n",
       "      <td>10-Sep-19</td>\n",
       "      <td>Berita</td>\n",
       "      <td>1</td>\n",
       "      <td>0</td>\n",
       "    </tr>\n",
       "    <tr>\n",
       "      <th>1</th>\n",
       "      <td>Terkait Mayat Bayi Mengenaskan di Tangerang, S...</td>\n",
       "      <td>Tangerang - Polisi menangkap pria berinisial J...</td>\n",
       "      <td>10-Sep-19</td>\n",
       "      <td>Berita</td>\n",
       "      <td>1</td>\n",
       "      <td>0</td>\n",
       "    </tr>\n",
       "    <tr>\n",
       "      <th>2</th>\n",
       "      <td>Muncul Istana di Tengah Rekonsiliasi Rusuh Papua</td>\n",
       "      <td>Jakarta - Bumi Cenderawasih telah memulihkan d...</td>\n",
       "      <td>10-Sep-19</td>\n",
       "      <td>Berita</td>\n",
       "      <td>1</td>\n",
       "      <td>0</td>\n",
       "    </tr>\n",
       "    <tr>\n",
       "      <th>3</th>\n",
       "      <td>Ada Motor Nyangkut di Atas Bambu di Sleman, Ko...</td>\n",
       "      <td>Sleman - Sepeda motor warna putih berpelat AB ...</td>\n",
       "      <td>10-Sep-19</td>\n",
       "      <td>Berita-jawa-tengah</td>\n",
       "      <td>1</td>\n",
       "      <td>0</td>\n",
       "    </tr>\n",
       "    <tr>\n",
       "      <th>4</th>\n",
       "      <td>Pesan Gamblang Poyuono Menolak Revisi UU KPK</td>\n",
       "      <td>Jakarta - Pesan lantang menolak revisi Undang-...</td>\n",
       "      <td>10-Sep-19</td>\n",
       "      <td>Berita</td>\n",
       "      <td>1</td>\n",
       "      <td>0</td>\n",
       "    </tr>\n",
       "    <tr>\n",
       "      <th>5</th>\n",
       "      <td>Kocak! Maling di Rumah Mewah Jakut Terekam CCT...</td>\n",
       "      <td>Jakarta - Sebuah rekaman CCTV viral di media s...</td>\n",
       "      <td>10-Sep-19</td>\n",
       "      <td>Berita</td>\n",
       "      <td>1</td>\n",
       "      <td>0</td>\n",
       "    </tr>\n",
       "    <tr>\n",
       "      <th>6</th>\n",
       "      <td>Hampir Seluas Jabar, Ini Tantangan Sintang Sia...</td>\n",
       "      <td>Sintang - Akses pendidikan dasar di daerah ped...</td>\n",
       "      <td>10-Sep-19</td>\n",
       "      <td>Berita</td>\n",
       "      <td>1</td>\n",
       "      <td>0</td>\n",
       "    </tr>\n",
       "    <tr>\n",
       "      <th>7</th>\n",
       "      <td>Viral Video Diduga Baku Tembak di Sleman, Ini ...</td>\n",
       "      <td>Sleman - Sebuah video yang menyampaikan ketera...</td>\n",
       "      <td>10-Sep-19</td>\n",
       "      <td>Berita-jawa-tengah</td>\n",
       "      <td>1</td>\n",
       "      <td>0</td>\n",
       "    </tr>\n",
       "    <tr>\n",
       "      <th>8</th>\n",
       "      <td>Giliran Alumni Unnes Serukan Tolak Revisi UU KPK</td>\n",
       "      <td>Semarang - Gelombang penolakan terhadap revisi...</td>\n",
       "      <td>10-Sep-19</td>\n",
       "      <td>Berita-jawa-tengah</td>\n",
       "      <td>1</td>\n",
       "      <td>0</td>\n",
       "    </tr>\n",
       "    <tr>\n",
       "      <th>9</th>\n",
       "      <td>Waspada! Ada Penipuan Catut Pertamina, Korbann...</td>\n",
       "      <td>Semarang - Penipuan dengan modus mengatasnamak...</td>\n",
       "      <td>10-Sep-19</td>\n",
       "      <td>Berita-jawa-tengah</td>\n",
       "      <td>1</td>\n",
       "      <td>0</td>\n",
       "    </tr>\n",
       "  </tbody>\n",
       "</table>\n",
       "</div>"
      ],
      "text/plain": [
       "                                               title  \\\n",
       "0  Viral! Driver Ojol di Bekasi Antar Pesanan Mak...   \n",
       "1  Terkait Mayat Bayi Mengenaskan di Tangerang, S...   \n",
       "2   Muncul Istana di Tengah Rekonsiliasi Rusuh Papua   \n",
       "3  Ada Motor Nyangkut di Atas Bambu di Sleman, Ko...   \n",
       "4       Pesan Gamblang Poyuono Menolak Revisi UU KPK   \n",
       "5  Kocak! Maling di Rumah Mewah Jakut Terekam CCT...   \n",
       "6  Hampir Seluas Jabar, Ini Tantangan Sintang Sia...   \n",
       "7  Viral Video Diduga Baku Tembak di Sleman, Ini ...   \n",
       "8   Giliran Alumni Unnes Serukan Tolak Revisi UU KPK   \n",
       "9  Waspada! Ada Penipuan Catut Pertamina, Korbann...   \n",
       "\n",
       "                                             content       date  \\\n",
       "0  Bekasi - Seorang driver ojek online di Bekasi ...  10-Sep-19   \n",
       "1  Tangerang - Polisi menangkap pria berinisial J...  10-Sep-19   \n",
       "2  Jakarta - Bumi Cenderawasih telah memulihkan d...  10-Sep-19   \n",
       "3  Sleman - Sepeda motor warna putih berpelat AB ...  10-Sep-19   \n",
       "4  Jakarta - Pesan lantang menolak revisi Undang-...  10-Sep-19   \n",
       "5  Jakarta - Sebuah rekaman CCTV viral di media s...  10-Sep-19   \n",
       "6  Sintang - Akses pendidikan dasar di daerah ped...  10-Sep-19   \n",
       "7  Sleman - Sebuah video yang menyampaikan ketera...  10-Sep-19   \n",
       "8  Semarang - Gelombang penolakan terhadap revisi...  10-Sep-19   \n",
       "9  Semarang - Penipuan dengan modus mengatasnamak...  10-Sep-19   \n",
       "\n",
       "         sub-category  label  class  \n",
       "0              Berita      1      0  \n",
       "1              Berita      1      0  \n",
       "2              Berita      1      0  \n",
       "3  Berita-jawa-tengah      1      0  \n",
       "4              Berita      1      0  \n",
       "5              Berita      1      0  \n",
       "6              Berita      1      0  \n",
       "7  Berita-jawa-tengah      1      0  \n",
       "8  Berita-jawa-tengah      1      0  \n",
       "9  Berita-jawa-tengah      1      0  "
      ]
     },
     "execution_count": 10,
     "metadata": {},
     "output_type": "execute_result"
    }
   ],
   "source": [
    "df_merge = pd.concat([df_fake, df_true], axis=0)\n",
    "df_merge.head(10)"
   ]
  },
  {
   "cell_type": "code",
   "execution_count": 11,
   "id": "4205d1f1",
   "metadata": {},
   "outputs": [
    {
     "data": {
      "text/html": [
       "<div>\n",
       "<style scoped>\n",
       "    .dataframe tbody tr th:only-of-type {\n",
       "        vertical-align: middle;\n",
       "    }\n",
       "\n",
       "    .dataframe tbody tr th {\n",
       "        vertical-align: top;\n",
       "    }\n",
       "\n",
       "    .dataframe thead th {\n",
       "        text-align: right;\n",
       "    }\n",
       "</style>\n",
       "<table border=\"1\" class=\"dataframe\">\n",
       "  <thead>\n",
       "    <tr style=\"text-align: right;\">\n",
       "      <th></th>\n",
       "      <th>content</th>\n",
       "      <th>class</th>\n",
       "    </tr>\n",
       "  </thead>\n",
       "  <tbody>\n",
       "    <tr>\n",
       "      <th>0</th>\n",
       "      <td>Bekasi - Seorang driver ojek online di Bekasi ...</td>\n",
       "      <td>0</td>\n",
       "    </tr>\n",
       "    <tr>\n",
       "      <th>1</th>\n",
       "      <td>Tangerang - Polisi menangkap pria berinisial J...</td>\n",
       "      <td>0</td>\n",
       "    </tr>\n",
       "    <tr>\n",
       "      <th>2</th>\n",
       "      <td>Jakarta - Bumi Cenderawasih telah memulihkan d...</td>\n",
       "      <td>0</td>\n",
       "    </tr>\n",
       "    <tr>\n",
       "      <th>3</th>\n",
       "      <td>Sleman - Sepeda motor warna putih berpelat AB ...</td>\n",
       "      <td>0</td>\n",
       "    </tr>\n",
       "    <tr>\n",
       "      <th>4</th>\n",
       "      <td>Jakarta - Pesan lantang menolak revisi Undang-...</td>\n",
       "      <td>0</td>\n",
       "    </tr>\n",
       "    <tr>\n",
       "      <th>5</th>\n",
       "      <td>Jakarta - Sebuah rekaman CCTV viral di media s...</td>\n",
       "      <td>0</td>\n",
       "    </tr>\n",
       "    <tr>\n",
       "      <th>6</th>\n",
       "      <td>Sintang - Akses pendidikan dasar di daerah ped...</td>\n",
       "      <td>0</td>\n",
       "    </tr>\n",
       "    <tr>\n",
       "      <th>7</th>\n",
       "      <td>Sleman - Sebuah video yang menyampaikan ketera...</td>\n",
       "      <td>0</td>\n",
       "    </tr>\n",
       "    <tr>\n",
       "      <th>8</th>\n",
       "      <td>Semarang - Gelombang penolakan terhadap revisi...</td>\n",
       "      <td>0</td>\n",
       "    </tr>\n",
       "    <tr>\n",
       "      <th>9</th>\n",
       "      <td>Semarang - Penipuan dengan modus mengatasnamak...</td>\n",
       "      <td>0</td>\n",
       "    </tr>\n",
       "  </tbody>\n",
       "</table>\n",
       "</div>"
      ],
      "text/plain": [
       "                                             content  class\n",
       "0  Bekasi - Seorang driver ojek online di Bekasi ...      0\n",
       "1  Tangerang - Polisi menangkap pria berinisial J...      0\n",
       "2  Jakarta - Bumi Cenderawasih telah memulihkan d...      0\n",
       "3  Sleman - Sepeda motor warna putih berpelat AB ...      0\n",
       "4  Jakarta - Pesan lantang menolak revisi Undang-...      0\n",
       "5  Jakarta - Sebuah rekaman CCTV viral di media s...      0\n",
       "6  Sintang - Akses pendidikan dasar di daerah ped...      0\n",
       "7  Sleman - Sebuah video yang menyampaikan ketera...      0\n",
       "8  Semarang - Gelombang penolakan terhadap revisi...      0\n",
       "9  Semarang - Penipuan dengan modus mengatasnamak...      0"
      ]
     },
     "execution_count": 11,
     "metadata": {},
     "output_type": "execute_result"
    }
   ],
   "source": [
    "df = df_merge.drop([\"title\", \"sub-category\", \"date\", \"label\"], axis = 1)\n",
    "df.head(10)"
   ]
  },
  {
   "cell_type": "code",
   "execution_count": 12,
   "id": "211890b2",
   "metadata": {},
   "outputs": [],
   "source": [
    "df = df.sample(frac=1)"
   ]
  },
  {
   "cell_type": "code",
   "execution_count": 13,
   "id": "777b3bd0",
   "metadata": {},
   "outputs": [
    {
     "data": {
      "text/html": [
       "<div>\n",
       "<style scoped>\n",
       "    .dataframe tbody tr th:only-of-type {\n",
       "        vertical-align: middle;\n",
       "    }\n",
       "\n",
       "    .dataframe tbody tr th {\n",
       "        vertical-align: top;\n",
       "    }\n",
       "\n",
       "    .dataframe thead th {\n",
       "        text-align: right;\n",
       "    }\n",
       "</style>\n",
       "<table border=\"1\" class=\"dataframe\">\n",
       "  <thead>\n",
       "    <tr style=\"text-align: right;\">\n",
       "      <th></th>\n",
       "      <th>content</th>\n",
       "      <th>class</th>\n",
       "    </tr>\n",
       "  </thead>\n",
       "  <tbody>\n",
       "    <tr>\n",
       "      <th>1101</th>\n",
       "      <td>, , - Ketua Harian¬†</td>\n",
       "      <td>1</td>\n",
       "    </tr>\n",
       "    <tr>\n",
       "      <th>2202</th>\n",
       "      <td>Beberapa hari terakhir aksi unjuk rasa atau d...</td>\n",
       "      <td>0</td>\n",
       "    </tr>\n",
       "    <tr>\n",
       "      <th>7349</th>\n",
       "      <td>Nama perwira tinggi dari Angkatan Udara (AU)...</td>\n",
       "      <td>1</td>\n",
       "    </tr>\n",
       "    <tr>\n",
       "      <th>3887</th>\n",
       "      <td>Orang yang mampu memahami emosi orang lain me...</td>\n",
       "      <td>0</td>\n",
       "    </tr>\n",
       "    <tr>\n",
       "      <th>1021</th>\n",
       "      <td>- Terpidana kerusuhan 22 Mei, Rendy Bugis Pet...</td>\n",
       "      <td>0</td>\n",
       "    </tr>\n",
       "    <tr>\n",
       "      <th>2528</th>\n",
       "      <td>, - Dinas Pariwisata Pemerintah Kabupaten Lam...</td>\n",
       "      <td>1</td>\n",
       "    </tr>\n",
       "    <tr>\n",
       "      <th>4280</th>\n",
       "      <td>IHRAM.CO.ID, JAKARTA -- Salah satu tokoh bangs...</td>\n",
       "      <td>1</td>\n",
       "    </tr>\n",
       "    <tr>\n",
       "      <th>6019</th>\n",
       "      <td>-,dan Faisal Harris sempat viral beberapa wakt...</td>\n",
       "      <td>1</td>\n",
       "    </tr>\n",
       "    <tr>\n",
       "      <th>7468</th>\n",
       "      <td>Penyesalan selalu datang di akhir. Kalimat t...</td>\n",
       "      <td>1</td>\n",
       "    </tr>\n",
       "    <tr>\n",
       "      <th>1695</th>\n",
       "      <td>- Prediksi Timnas , dalam , zona Asia dapat d...</td>\n",
       "      <td>0</td>\n",
       "    </tr>\n",
       "  </tbody>\n",
       "</table>\n",
       "</div>"
      ],
      "text/plain": [
       "                                                content  class\n",
       "1101                               , , - Ketua Harian¬†      1\n",
       "2202   Beberapa hari terakhir aksi unjuk rasa atau d...      0\n",
       "7349    Nama perwira tinggi dari Angkatan Udara (AU)...      1\n",
       "3887   Orang yang mampu memahami emosi orang lain me...      0\n",
       "1021   - Terpidana kerusuhan 22 Mei, Rendy Bugis Pet...      0\n",
       "2528   , - Dinas Pariwisata Pemerintah Kabupaten Lam...      1\n",
       "4280  IHRAM.CO.ID, JAKARTA -- Salah satu tokoh bangs...      1\n",
       "6019  -,dan Faisal Harris sempat viral beberapa wakt...      1\n",
       "7468    Penyesalan selalu datang di akhir. Kalimat t...      1\n",
       "1695   - Prediksi Timnas , dalam , zona Asia dapat d...      0"
      ]
     },
     "execution_count": 13,
     "metadata": {},
     "output_type": "execute_result"
    }
   ],
   "source": [
    "df.head(10)"
   ]
  },
  {
   "cell_type": "code",
   "execution_count": 14,
   "id": "84dddf20",
   "metadata": {},
   "outputs": [
    {
     "data": {
      "text/plain": [
       "content    18\n",
       "class       0\n",
       "dtype: int64"
      ]
     },
     "execution_count": 14,
     "metadata": {},
     "output_type": "execute_result"
    }
   ],
   "source": [
    "df.isnull().sum()"
   ]
  },
  {
   "cell_type": "code",
   "execution_count": 15,
   "id": "de0359a7",
   "metadata": {},
   "outputs": [],
   "source": [
    "def word_drop(content):\n",
    "    content = content.lower()\n",
    "    content = re.sub('\\[.*?\\]', '', content)\n",
    "    content = re.sub(\"\\\\W\", \" \", content)\n",
    "    content = re.sub('https?://\\S+|www\\.\\S+', '', content)\n",
    "    content = re.sub('Äìôóò', '', content)\n",
    "    content = re.sub('¬†', '', content)\n",
    "    content = re.sub('<.*?>+', '', content)\n",
    "    content = re.sub('[%s]' % re.escape(string.punctuation), '', content)\n",
    "    content = re.sub('\\n', '', content)\n",
    "    content = re.sub('\\w*\\d\\w*', '', content)\n",
    "    return content"
   ]
  },
  {
   "cell_type": "code",
   "execution_count": 16,
   "id": "cf167520",
   "metadata": {},
   "outputs": [
    {
     "data": {
      "text/plain": [
       "1101                                       ketua harian  \n",
       "2202     beberapa hari terakhir aksi unjuk rasa atau d...\n",
       "7349      nama perwira tinggi dari angkatan udara  au ...\n",
       "3887     orang yang mampu memahami emosi orang lain me...\n",
       "1021       terpidana kerusuhan  mei  rendy bugis petta...\n",
       "                              ...                        \n",
       "7499       persatuan sepak bola seluruh indonesia     ...\n",
       "1566    tempo co  jakarta   forum mahasiswa se jabodet...\n",
       "5591     jakarta     menelan dua kekalahan beruntun  d...\n",
       "4896       kecelakaan tunggal sebuah minibus suzuki ap...\n",
       "4249    jurgen klopp akhirnya memberikan klarifikasi s...\n",
       "Name: content, Length: 14145, dtype: object"
      ]
     },
     "execution_count": 16,
     "metadata": {},
     "output_type": "execute_result"
    }
   ],
   "source": [
    "df[\"content\"] = df['content'].astype(str)\n",
    "df[\"content\"].apply(word_drop)"
   ]
  },
  {
   "cell_type": "code",
   "execution_count": 17,
   "id": "62165d2f",
   "metadata": {},
   "outputs": [
    {
     "data": {
      "text/html": [
       "<div>\n",
       "<style scoped>\n",
       "    .dataframe tbody tr th:only-of-type {\n",
       "        vertical-align: middle;\n",
       "    }\n",
       "\n",
       "    .dataframe tbody tr th {\n",
       "        vertical-align: top;\n",
       "    }\n",
       "\n",
       "    .dataframe thead th {\n",
       "        text-align: right;\n",
       "    }\n",
       "</style>\n",
       "<table border=\"1\" class=\"dataframe\">\n",
       "  <thead>\n",
       "    <tr style=\"text-align: right;\">\n",
       "      <th></th>\n",
       "      <th>content</th>\n",
       "      <th>class</th>\n",
       "    </tr>\n",
       "  </thead>\n",
       "  <tbody>\n",
       "    <tr>\n",
       "      <th>1101</th>\n",
       "      <td>, , - Ketua Harian¬†</td>\n",
       "      <td>1</td>\n",
       "    </tr>\n",
       "    <tr>\n",
       "      <th>2202</th>\n",
       "      <td>Beberapa hari terakhir aksi unjuk rasa atau d...</td>\n",
       "      <td>0</td>\n",
       "    </tr>\n",
       "    <tr>\n",
       "      <th>7349</th>\n",
       "      <td>Nama perwira tinggi dari Angkatan Udara (AU)...</td>\n",
       "      <td>1</td>\n",
       "    </tr>\n",
       "    <tr>\n",
       "      <th>3887</th>\n",
       "      <td>Orang yang mampu memahami emosi orang lain me...</td>\n",
       "      <td>0</td>\n",
       "    </tr>\n",
       "    <tr>\n",
       "      <th>1021</th>\n",
       "      <td>- Terpidana kerusuhan 22 Mei, Rendy Bugis Pet...</td>\n",
       "      <td>0</td>\n",
       "    </tr>\n",
       "    <tr>\n",
       "      <th>2528</th>\n",
       "      <td>, - Dinas Pariwisata Pemerintah Kabupaten Lam...</td>\n",
       "      <td>1</td>\n",
       "    </tr>\n",
       "    <tr>\n",
       "      <th>4280</th>\n",
       "      <td>IHRAM.CO.ID, JAKARTA -- Salah satu tokoh bangs...</td>\n",
       "      <td>1</td>\n",
       "    </tr>\n",
       "    <tr>\n",
       "      <th>6019</th>\n",
       "      <td>-,dan Faisal Harris sempat viral beberapa wakt...</td>\n",
       "      <td>1</td>\n",
       "    </tr>\n",
       "    <tr>\n",
       "      <th>7468</th>\n",
       "      <td>Penyesalan selalu datang di akhir. Kalimat t...</td>\n",
       "      <td>1</td>\n",
       "    </tr>\n",
       "    <tr>\n",
       "      <th>1695</th>\n",
       "      <td>- Prediksi Timnas , dalam , zona Asia dapat d...</td>\n",
       "      <td>0</td>\n",
       "    </tr>\n",
       "  </tbody>\n",
       "</table>\n",
       "</div>"
      ],
      "text/plain": [
       "                                                content  class\n",
       "1101                               , , - Ketua Harian¬†      1\n",
       "2202   Beberapa hari terakhir aksi unjuk rasa atau d...      0\n",
       "7349    Nama perwira tinggi dari Angkatan Udara (AU)...      1\n",
       "3887   Orang yang mampu memahami emosi orang lain me...      0\n",
       "1021   - Terpidana kerusuhan 22 Mei, Rendy Bugis Pet...      0\n",
       "2528   , - Dinas Pariwisata Pemerintah Kabupaten Lam...      1\n",
       "4280  IHRAM.CO.ID, JAKARTA -- Salah satu tokoh bangs...      1\n",
       "6019  -,dan Faisal Harris sempat viral beberapa wakt...      1\n",
       "7468    Penyesalan selalu datang di akhir. Kalimat t...      1\n",
       "1695   - Prediksi Timnas , dalam , zona Asia dapat d...      0"
      ]
     },
     "execution_count": 17,
     "metadata": {},
     "output_type": "execute_result"
    }
   ],
   "source": [
    "df.head(10)"
   ]
  },
  {
   "cell_type": "code",
   "execution_count": 18,
   "id": "8aca1360",
   "metadata": {},
   "outputs": [],
   "source": [
    "x = df[\"content\"]\n",
    "y = df[\"class\"]"
   ]
  },
  {
   "cell_type": "code",
   "execution_count": 19,
   "id": "9bb8c225",
   "metadata": {},
   "outputs": [],
   "source": [
    "x_train, x_test, y_train, y_test = train_test_split(x, y, test_size = .25)"
   ]
  },
  {
   "cell_type": "code",
   "execution_count": 20,
   "id": "6f02c183",
   "metadata": {},
   "outputs": [],
   "source": [
    "from sklearn.feature_extraction.text import TfidfVectorizer"
   ]
  },
  {
   "cell_type": "code",
   "execution_count": 21,
   "id": "08da1649",
   "metadata": {},
   "outputs": [],
   "source": [
    "vectorization = TfidfVectorizer()\n",
    "xv_train = vectorization.fit_transform(x_train)\n",
    "xv_test = vectorization.transform(x_test)"
   ]
  },
  {
   "cell_type": "markdown",
   "id": "cf94aadd",
   "metadata": {},
   "source": [
    "##### Logistic Regression"
   ]
  },
  {
   "cell_type": "code",
   "execution_count": 22,
   "id": "f06f777c",
   "metadata": {},
   "outputs": [],
   "source": [
    "from sklearn.linear_model import LogisticRegression"
   ]
  },
  {
   "cell_type": "code",
   "execution_count": 23,
   "id": "6a89dba3",
   "metadata": {},
   "outputs": [
    {
     "data": {
      "text/html": [
       "<style>#sk-container-id-1 {color: black;background-color: white;}#sk-container-id-1 pre{padding: 0;}#sk-container-id-1 div.sk-toggleable {background-color: white;}#sk-container-id-1 label.sk-toggleable__label {cursor: pointer;display: block;width: 100%;margin-bottom: 0;padding: 0.3em;box-sizing: border-box;text-align: center;}#sk-container-id-1 label.sk-toggleable__label-arrow:before {content: \"▸\";float: left;margin-right: 0.25em;color: #696969;}#sk-container-id-1 label.sk-toggleable__label-arrow:hover:before {color: black;}#sk-container-id-1 div.sk-estimator:hover label.sk-toggleable__label-arrow:before {color: black;}#sk-container-id-1 div.sk-toggleable__content {max-height: 0;max-width: 0;overflow: hidden;text-align: left;background-color: #f0f8ff;}#sk-container-id-1 div.sk-toggleable__content pre {margin: 0.2em;color: black;border-radius: 0.25em;background-color: #f0f8ff;}#sk-container-id-1 input.sk-toggleable__control:checked~div.sk-toggleable__content {max-height: 200px;max-width: 100%;overflow: auto;}#sk-container-id-1 input.sk-toggleable__control:checked~label.sk-toggleable__label-arrow:before {content: \"▾\";}#sk-container-id-1 div.sk-estimator input.sk-toggleable__control:checked~label.sk-toggleable__label {background-color: #d4ebff;}#sk-container-id-1 div.sk-label input.sk-toggleable__control:checked~label.sk-toggleable__label {background-color: #d4ebff;}#sk-container-id-1 input.sk-hidden--visually {border: 0;clip: rect(1px 1px 1px 1px);clip: rect(1px, 1px, 1px, 1px);height: 1px;margin: -1px;overflow: hidden;padding: 0;position: absolute;width: 1px;}#sk-container-id-1 div.sk-estimator {font-family: monospace;background-color: #f0f8ff;border: 1px dotted black;border-radius: 0.25em;box-sizing: border-box;margin-bottom: 0.5em;}#sk-container-id-1 div.sk-estimator:hover {background-color: #d4ebff;}#sk-container-id-1 div.sk-parallel-item::after {content: \"\";width: 100%;border-bottom: 1px solid gray;flex-grow: 1;}#sk-container-id-1 div.sk-label:hover label.sk-toggleable__label {background-color: #d4ebff;}#sk-container-id-1 div.sk-serial::before {content: \"\";position: absolute;border-left: 1px solid gray;box-sizing: border-box;top: 0;bottom: 0;left: 50%;z-index: 0;}#sk-container-id-1 div.sk-serial {display: flex;flex-direction: column;align-items: center;background-color: white;padding-right: 0.2em;padding-left: 0.2em;position: relative;}#sk-container-id-1 div.sk-item {position: relative;z-index: 1;}#sk-container-id-1 div.sk-parallel {display: flex;align-items: stretch;justify-content: center;background-color: white;position: relative;}#sk-container-id-1 div.sk-item::before, #sk-container-id-1 div.sk-parallel-item::before {content: \"\";position: absolute;border-left: 1px solid gray;box-sizing: border-box;top: 0;bottom: 0;left: 50%;z-index: -1;}#sk-container-id-1 div.sk-parallel-item {display: flex;flex-direction: column;z-index: 1;position: relative;background-color: white;}#sk-container-id-1 div.sk-parallel-item:first-child::after {align-self: flex-end;width: 50%;}#sk-container-id-1 div.sk-parallel-item:last-child::after {align-self: flex-start;width: 50%;}#sk-container-id-1 div.sk-parallel-item:only-child::after {width: 0;}#sk-container-id-1 div.sk-dashed-wrapped {border: 1px dashed gray;margin: 0 0.4em 0.5em 0.4em;box-sizing: border-box;padding-bottom: 0.4em;background-color: white;}#sk-container-id-1 div.sk-label label {font-family: monospace;font-weight: bold;display: inline-block;line-height: 1.2em;}#sk-container-id-1 div.sk-label-container {text-align: center;}#sk-container-id-1 div.sk-container {/* jupyter's `normalize.less` sets `[hidden] { display: none; }` but bootstrap.min.css set `[hidden] { display: none !important; }` so we also need the `!important` here to be able to override the default hidden behavior on the sphinx rendered scikit-learn.org. See: https://github.com/scikit-learn/scikit-learn/issues/21755 */display: inline-block !important;position: relative;}#sk-container-id-1 div.sk-text-repr-fallback {display: none;}</style><div id=\"sk-container-id-1\" class=\"sk-top-container\"><div class=\"sk-text-repr-fallback\"><pre>LogisticRegression()</pre><b>In a Jupyter environment, please rerun this cell to show the HTML representation or trust the notebook. <br />On GitHub, the HTML representation is unable to render, please try loading this page with nbviewer.org.</b></div><div class=\"sk-container\" hidden><div class=\"sk-item\"><div class=\"sk-estimator sk-toggleable\"><input class=\"sk-toggleable__control sk-hidden--visually\" id=\"sk-estimator-id-1\" type=\"checkbox\" checked><label for=\"sk-estimator-id-1\" class=\"sk-toggleable__label sk-toggleable__label-arrow\">LogisticRegression</label><div class=\"sk-toggleable__content\"><pre>LogisticRegression()</pre></div></div></div></div></div>"
      ],
      "text/plain": [
       "LogisticRegression()"
      ]
     },
     "execution_count": 23,
     "metadata": {},
     "output_type": "execute_result"
    }
   ],
   "source": [
    "LR = LogisticRegression()\n",
    "LR.fit(xv_train, y_train)"
   ]
  },
  {
   "cell_type": "code",
   "execution_count": 24,
   "id": "1573fbea",
   "metadata": {},
   "outputs": [
    {
     "data": {
      "text/plain": [
       "0.7441334464235227"
      ]
     },
     "execution_count": 24,
     "metadata": {},
     "output_type": "execute_result"
    }
   ],
   "source": [
    "LR.score(xv_test, y_test)"
   ]
  },
  {
   "cell_type": "code",
   "execution_count": 25,
   "id": "fee46dfc",
   "metadata": {},
   "outputs": [],
   "source": [
    "pred_LR = LR.predict(xv_test)"
   ]
  },
  {
   "cell_type": "code",
   "execution_count": 26,
   "id": "1a1579f7",
   "metadata": {},
   "outputs": [
    {
     "name": "stdout",
     "output_type": "stream",
     "text": [
      "              precision    recall  f1-score   support\n",
      "\n",
      "           0       0.72      0.62      0.67      1471\n",
      "           1       0.76      0.83      0.79      2066\n",
      "\n",
      "    accuracy                           0.74      3537\n",
      "   macro avg       0.74      0.73      0.73      3537\n",
      "weighted avg       0.74      0.74      0.74      3537\n",
      "\n"
     ]
    }
   ],
   "source": [
    "print(classification_report(y_test, pred_LR))"
   ]
  },
  {
   "cell_type": "code",
   "execution_count": 27,
   "id": "b0779d50",
   "metadata": {},
   "outputs": [
    {
     "data": {
      "text/plain": [
       "8.837443373922916"
      ]
     },
     "execution_count": 27,
     "metadata": {},
     "output_type": "execute_result"
    }
   ],
   "source": [
    "logloss = log_loss(y_test, pred_LR)\n",
    "logloss"
   ]
  },
  {
   "cell_type": "markdown",
   "id": "d59882f7",
   "metadata": {},
   "source": [
    "#### Decision Tree"
   ]
  },
  {
   "cell_type": "code",
   "execution_count": 28,
   "id": "b4d0c165",
   "metadata": {
    "scrolled": true
   },
   "outputs": [],
   "source": [
    "from sklearn.tree import DecisionTreeClassifier"
   ]
  },
  {
   "cell_type": "code",
   "execution_count": 29,
   "id": "5378f482",
   "metadata": {},
   "outputs": [
    {
     "data": {
      "text/html": [
       "<style>#sk-container-id-2 {color: black;background-color: white;}#sk-container-id-2 pre{padding: 0;}#sk-container-id-2 div.sk-toggleable {background-color: white;}#sk-container-id-2 label.sk-toggleable__label {cursor: pointer;display: block;width: 100%;margin-bottom: 0;padding: 0.3em;box-sizing: border-box;text-align: center;}#sk-container-id-2 label.sk-toggleable__label-arrow:before {content: \"▸\";float: left;margin-right: 0.25em;color: #696969;}#sk-container-id-2 label.sk-toggleable__label-arrow:hover:before {color: black;}#sk-container-id-2 div.sk-estimator:hover label.sk-toggleable__label-arrow:before {color: black;}#sk-container-id-2 div.sk-toggleable__content {max-height: 0;max-width: 0;overflow: hidden;text-align: left;background-color: #f0f8ff;}#sk-container-id-2 div.sk-toggleable__content pre {margin: 0.2em;color: black;border-radius: 0.25em;background-color: #f0f8ff;}#sk-container-id-2 input.sk-toggleable__control:checked~div.sk-toggleable__content {max-height: 200px;max-width: 100%;overflow: auto;}#sk-container-id-2 input.sk-toggleable__control:checked~label.sk-toggleable__label-arrow:before {content: \"▾\";}#sk-container-id-2 div.sk-estimator input.sk-toggleable__control:checked~label.sk-toggleable__label {background-color: #d4ebff;}#sk-container-id-2 div.sk-label input.sk-toggleable__control:checked~label.sk-toggleable__label {background-color: #d4ebff;}#sk-container-id-2 input.sk-hidden--visually {border: 0;clip: rect(1px 1px 1px 1px);clip: rect(1px, 1px, 1px, 1px);height: 1px;margin: -1px;overflow: hidden;padding: 0;position: absolute;width: 1px;}#sk-container-id-2 div.sk-estimator {font-family: monospace;background-color: #f0f8ff;border: 1px dotted black;border-radius: 0.25em;box-sizing: border-box;margin-bottom: 0.5em;}#sk-container-id-2 div.sk-estimator:hover {background-color: #d4ebff;}#sk-container-id-2 div.sk-parallel-item::after {content: \"\";width: 100%;border-bottom: 1px solid gray;flex-grow: 1;}#sk-container-id-2 div.sk-label:hover label.sk-toggleable__label {background-color: #d4ebff;}#sk-container-id-2 div.sk-serial::before {content: \"\";position: absolute;border-left: 1px solid gray;box-sizing: border-box;top: 0;bottom: 0;left: 50%;z-index: 0;}#sk-container-id-2 div.sk-serial {display: flex;flex-direction: column;align-items: center;background-color: white;padding-right: 0.2em;padding-left: 0.2em;position: relative;}#sk-container-id-2 div.sk-item {position: relative;z-index: 1;}#sk-container-id-2 div.sk-parallel {display: flex;align-items: stretch;justify-content: center;background-color: white;position: relative;}#sk-container-id-2 div.sk-item::before, #sk-container-id-2 div.sk-parallel-item::before {content: \"\";position: absolute;border-left: 1px solid gray;box-sizing: border-box;top: 0;bottom: 0;left: 50%;z-index: -1;}#sk-container-id-2 div.sk-parallel-item {display: flex;flex-direction: column;z-index: 1;position: relative;background-color: white;}#sk-container-id-2 div.sk-parallel-item:first-child::after {align-self: flex-end;width: 50%;}#sk-container-id-2 div.sk-parallel-item:last-child::after {align-self: flex-start;width: 50%;}#sk-container-id-2 div.sk-parallel-item:only-child::after {width: 0;}#sk-container-id-2 div.sk-dashed-wrapped {border: 1px dashed gray;margin: 0 0.4em 0.5em 0.4em;box-sizing: border-box;padding-bottom: 0.4em;background-color: white;}#sk-container-id-2 div.sk-label label {font-family: monospace;font-weight: bold;display: inline-block;line-height: 1.2em;}#sk-container-id-2 div.sk-label-container {text-align: center;}#sk-container-id-2 div.sk-container {/* jupyter's `normalize.less` sets `[hidden] { display: none; }` but bootstrap.min.css set `[hidden] { display: none !important; }` so we also need the `!important` here to be able to override the default hidden behavior on the sphinx rendered scikit-learn.org. See: https://github.com/scikit-learn/scikit-learn/issues/21755 */display: inline-block !important;position: relative;}#sk-container-id-2 div.sk-text-repr-fallback {display: none;}</style><div id=\"sk-container-id-2\" class=\"sk-top-container\"><div class=\"sk-text-repr-fallback\"><pre>DecisionTreeClassifier()</pre><b>In a Jupyter environment, please rerun this cell to show the HTML representation or trust the notebook. <br />On GitHub, the HTML representation is unable to render, please try loading this page with nbviewer.org.</b></div><div class=\"sk-container\" hidden><div class=\"sk-item\"><div class=\"sk-estimator sk-toggleable\"><input class=\"sk-toggleable__control sk-hidden--visually\" id=\"sk-estimator-id-2\" type=\"checkbox\" checked><label for=\"sk-estimator-id-2\" class=\"sk-toggleable__label sk-toggleable__label-arrow\">DecisionTreeClassifier</label><div class=\"sk-toggleable__content\"><pre>DecisionTreeClassifier()</pre></div></div></div></div></div>"
      ],
      "text/plain": [
       "DecisionTreeClassifier()"
      ]
     },
     "execution_count": 29,
     "metadata": {},
     "output_type": "execute_result"
    }
   ],
   "source": [
    "DT = DecisionTreeClassifier()\n",
    "DT.fit(xv_train, y_train)"
   ]
  },
  {
   "cell_type": "code",
   "execution_count": 30,
   "id": "e3aeca21",
   "metadata": {},
   "outputs": [
    {
     "data": {
      "text/plain": [
       "0.6875883517104892"
      ]
     },
     "execution_count": 30,
     "metadata": {},
     "output_type": "execute_result"
    }
   ],
   "source": [
    "DT.score(xv_test, y_test)"
   ]
  },
  {
   "cell_type": "code",
   "execution_count": 31,
   "id": "a5e2e20f",
   "metadata": {},
   "outputs": [],
   "source": [
    "pred_DT = DT.predict(xv_test)"
   ]
  },
  {
   "cell_type": "code",
   "execution_count": 32,
   "id": "23621e78",
   "metadata": {},
   "outputs": [
    {
     "name": "stdout",
     "output_type": "stream",
     "text": [
      "              precision    recall  f1-score   support\n",
      "\n",
      "           0       0.62      0.66      0.64      1471\n",
      "           1       0.74      0.71      0.73      2066\n",
      "\n",
      "    accuracy                           0.69      3537\n",
      "   macro avg       0.68      0.68      0.68      3537\n",
      "weighted avg       0.69      0.69      0.69      3537\n",
      "\n"
     ]
    }
   ],
   "source": [
    "print(classification_report(y_test, pred_DT))"
   ]
  },
  {
   "cell_type": "code",
   "execution_count": 33,
   "id": "69fccbd5",
   "metadata": {},
   "outputs": [
    {
     "data": {
      "text/plain": [
       "10.79043067918389"
      ]
     },
     "execution_count": 33,
     "metadata": {},
     "output_type": "execute_result"
    }
   ],
   "source": [
    "logloss = log_loss(y_test, pred_DT)\n",
    "logloss"
   ]
  },
  {
   "cell_type": "markdown",
   "id": "20547e8c",
   "metadata": {},
   "source": [
    "#### Gradient Boosting Classification"
   ]
  },
  {
   "cell_type": "code",
   "execution_count": 34,
   "id": "a0666330",
   "metadata": {},
   "outputs": [],
   "source": [
    "from sklearn.ensemble import GradientBoostingClassifier"
   ]
  },
  {
   "cell_type": "code",
   "execution_count": 35,
   "id": "00d47d94",
   "metadata": {},
   "outputs": [
    {
     "data": {
      "text/html": [
       "<style>#sk-container-id-3 {color: black;background-color: white;}#sk-container-id-3 pre{padding: 0;}#sk-container-id-3 div.sk-toggleable {background-color: white;}#sk-container-id-3 label.sk-toggleable__label {cursor: pointer;display: block;width: 100%;margin-bottom: 0;padding: 0.3em;box-sizing: border-box;text-align: center;}#sk-container-id-3 label.sk-toggleable__label-arrow:before {content: \"▸\";float: left;margin-right: 0.25em;color: #696969;}#sk-container-id-3 label.sk-toggleable__label-arrow:hover:before {color: black;}#sk-container-id-3 div.sk-estimator:hover label.sk-toggleable__label-arrow:before {color: black;}#sk-container-id-3 div.sk-toggleable__content {max-height: 0;max-width: 0;overflow: hidden;text-align: left;background-color: #f0f8ff;}#sk-container-id-3 div.sk-toggleable__content pre {margin: 0.2em;color: black;border-radius: 0.25em;background-color: #f0f8ff;}#sk-container-id-3 input.sk-toggleable__control:checked~div.sk-toggleable__content {max-height: 200px;max-width: 100%;overflow: auto;}#sk-container-id-3 input.sk-toggleable__control:checked~label.sk-toggleable__label-arrow:before {content: \"▾\";}#sk-container-id-3 div.sk-estimator input.sk-toggleable__control:checked~label.sk-toggleable__label {background-color: #d4ebff;}#sk-container-id-3 div.sk-label input.sk-toggleable__control:checked~label.sk-toggleable__label {background-color: #d4ebff;}#sk-container-id-3 input.sk-hidden--visually {border: 0;clip: rect(1px 1px 1px 1px);clip: rect(1px, 1px, 1px, 1px);height: 1px;margin: -1px;overflow: hidden;padding: 0;position: absolute;width: 1px;}#sk-container-id-3 div.sk-estimator {font-family: monospace;background-color: #f0f8ff;border: 1px dotted black;border-radius: 0.25em;box-sizing: border-box;margin-bottom: 0.5em;}#sk-container-id-3 div.sk-estimator:hover {background-color: #d4ebff;}#sk-container-id-3 div.sk-parallel-item::after {content: \"\";width: 100%;border-bottom: 1px solid gray;flex-grow: 1;}#sk-container-id-3 div.sk-label:hover label.sk-toggleable__label {background-color: #d4ebff;}#sk-container-id-3 div.sk-serial::before {content: \"\";position: absolute;border-left: 1px solid gray;box-sizing: border-box;top: 0;bottom: 0;left: 50%;z-index: 0;}#sk-container-id-3 div.sk-serial {display: flex;flex-direction: column;align-items: center;background-color: white;padding-right: 0.2em;padding-left: 0.2em;position: relative;}#sk-container-id-3 div.sk-item {position: relative;z-index: 1;}#sk-container-id-3 div.sk-parallel {display: flex;align-items: stretch;justify-content: center;background-color: white;position: relative;}#sk-container-id-3 div.sk-item::before, #sk-container-id-3 div.sk-parallel-item::before {content: \"\";position: absolute;border-left: 1px solid gray;box-sizing: border-box;top: 0;bottom: 0;left: 50%;z-index: -1;}#sk-container-id-3 div.sk-parallel-item {display: flex;flex-direction: column;z-index: 1;position: relative;background-color: white;}#sk-container-id-3 div.sk-parallel-item:first-child::after {align-self: flex-end;width: 50%;}#sk-container-id-3 div.sk-parallel-item:last-child::after {align-self: flex-start;width: 50%;}#sk-container-id-3 div.sk-parallel-item:only-child::after {width: 0;}#sk-container-id-3 div.sk-dashed-wrapped {border: 1px dashed gray;margin: 0 0.4em 0.5em 0.4em;box-sizing: border-box;padding-bottom: 0.4em;background-color: white;}#sk-container-id-3 div.sk-label label {font-family: monospace;font-weight: bold;display: inline-block;line-height: 1.2em;}#sk-container-id-3 div.sk-label-container {text-align: center;}#sk-container-id-3 div.sk-container {/* jupyter's `normalize.less` sets `[hidden] { display: none; }` but bootstrap.min.css set `[hidden] { display: none !important; }` so we also need the `!important` here to be able to override the default hidden behavior on the sphinx rendered scikit-learn.org. See: https://github.com/scikit-learn/scikit-learn/issues/21755 */display: inline-block !important;position: relative;}#sk-container-id-3 div.sk-text-repr-fallback {display: none;}</style><div id=\"sk-container-id-3\" class=\"sk-top-container\"><div class=\"sk-text-repr-fallback\"><pre>GradientBoostingClassifier(random_state=0)</pre><b>In a Jupyter environment, please rerun this cell to show the HTML representation or trust the notebook. <br />On GitHub, the HTML representation is unable to render, please try loading this page with nbviewer.org.</b></div><div class=\"sk-container\" hidden><div class=\"sk-item\"><div class=\"sk-estimator sk-toggleable\"><input class=\"sk-toggleable__control sk-hidden--visually\" id=\"sk-estimator-id-3\" type=\"checkbox\" checked><label for=\"sk-estimator-id-3\" class=\"sk-toggleable__label sk-toggleable__label-arrow\">GradientBoostingClassifier</label><div class=\"sk-toggleable__content\"><pre>GradientBoostingClassifier(random_state=0)</pre></div></div></div></div></div>"
      ],
      "text/plain": [
       "GradientBoostingClassifier(random_state=0)"
      ]
     },
     "execution_count": 35,
     "metadata": {},
     "output_type": "execute_result"
    }
   ],
   "source": [
    "GBC = GradientBoostingClassifier(random_state = 0)\n",
    "GBC.fit(xv_train, y_train)"
   ]
  },
  {
   "cell_type": "code",
   "execution_count": 36,
   "id": "b69d3e0d",
   "metadata": {},
   "outputs": [
    {
     "data": {
      "text/plain": [
       "0.731128074639525"
      ]
     },
     "execution_count": 36,
     "metadata": {},
     "output_type": "execute_result"
    }
   ],
   "source": [
    "GBC.score(xv_test, y_test)"
   ]
  },
  {
   "cell_type": "code",
   "execution_count": 37,
   "id": "fbfc8233",
   "metadata": {},
   "outputs": [],
   "source": [
    "pred_GBC = GBC.predict(xv_test)"
   ]
  },
  {
   "cell_type": "code",
   "execution_count": 38,
   "id": "2764c21e",
   "metadata": {},
   "outputs": [
    {
     "name": "stdout",
     "output_type": "stream",
     "text": [
      "              precision    recall  f1-score   support\n",
      "\n",
      "           0       0.71      0.60      0.65      1471\n",
      "           1       0.74      0.83      0.78      2066\n",
      "\n",
      "    accuracy                           0.73      3537\n",
      "   macro avg       0.73      0.71      0.72      3537\n",
      "weighted avg       0.73      0.73      0.73      3537\n",
      "\n"
     ]
    }
   ],
   "source": [
    "print(classification_report(y_test, pred_GBC))"
   ]
  },
  {
   "cell_type": "code",
   "execution_count": 39,
   "id": "769c7bb2",
   "metadata": {},
   "outputs": [
    {
     "data": {
      "text/plain": [
       "9.286641366365894"
      ]
     },
     "execution_count": 39,
     "metadata": {},
     "output_type": "execute_result"
    }
   ],
   "source": [
    "logloss = log_loss(y_test, pred_GBC)\n",
    "logloss"
   ]
  },
  {
   "cell_type": "markdown",
   "id": "913150cd",
   "metadata": {},
   "source": [
    "#### Random Forest Classification"
   ]
  },
  {
   "cell_type": "code",
   "execution_count": 40,
   "id": "fec51c7c",
   "metadata": {},
   "outputs": [],
   "source": [
    "from sklearn.ensemble import RandomForestClassifier "
   ]
  },
  {
   "cell_type": "code",
   "execution_count": 41,
   "id": "5e10d2a9",
   "metadata": {},
   "outputs": [
    {
     "data": {
      "text/html": [
       "<style>#sk-container-id-4 {color: black;background-color: white;}#sk-container-id-4 pre{padding: 0;}#sk-container-id-4 div.sk-toggleable {background-color: white;}#sk-container-id-4 label.sk-toggleable__label {cursor: pointer;display: block;width: 100%;margin-bottom: 0;padding: 0.3em;box-sizing: border-box;text-align: center;}#sk-container-id-4 label.sk-toggleable__label-arrow:before {content: \"▸\";float: left;margin-right: 0.25em;color: #696969;}#sk-container-id-4 label.sk-toggleable__label-arrow:hover:before {color: black;}#sk-container-id-4 div.sk-estimator:hover label.sk-toggleable__label-arrow:before {color: black;}#sk-container-id-4 div.sk-toggleable__content {max-height: 0;max-width: 0;overflow: hidden;text-align: left;background-color: #f0f8ff;}#sk-container-id-4 div.sk-toggleable__content pre {margin: 0.2em;color: black;border-radius: 0.25em;background-color: #f0f8ff;}#sk-container-id-4 input.sk-toggleable__control:checked~div.sk-toggleable__content {max-height: 200px;max-width: 100%;overflow: auto;}#sk-container-id-4 input.sk-toggleable__control:checked~label.sk-toggleable__label-arrow:before {content: \"▾\";}#sk-container-id-4 div.sk-estimator input.sk-toggleable__control:checked~label.sk-toggleable__label {background-color: #d4ebff;}#sk-container-id-4 div.sk-label input.sk-toggleable__control:checked~label.sk-toggleable__label {background-color: #d4ebff;}#sk-container-id-4 input.sk-hidden--visually {border: 0;clip: rect(1px 1px 1px 1px);clip: rect(1px, 1px, 1px, 1px);height: 1px;margin: -1px;overflow: hidden;padding: 0;position: absolute;width: 1px;}#sk-container-id-4 div.sk-estimator {font-family: monospace;background-color: #f0f8ff;border: 1px dotted black;border-radius: 0.25em;box-sizing: border-box;margin-bottom: 0.5em;}#sk-container-id-4 div.sk-estimator:hover {background-color: #d4ebff;}#sk-container-id-4 div.sk-parallel-item::after {content: \"\";width: 100%;border-bottom: 1px solid gray;flex-grow: 1;}#sk-container-id-4 div.sk-label:hover label.sk-toggleable__label {background-color: #d4ebff;}#sk-container-id-4 div.sk-serial::before {content: \"\";position: absolute;border-left: 1px solid gray;box-sizing: border-box;top: 0;bottom: 0;left: 50%;z-index: 0;}#sk-container-id-4 div.sk-serial {display: flex;flex-direction: column;align-items: center;background-color: white;padding-right: 0.2em;padding-left: 0.2em;position: relative;}#sk-container-id-4 div.sk-item {position: relative;z-index: 1;}#sk-container-id-4 div.sk-parallel {display: flex;align-items: stretch;justify-content: center;background-color: white;position: relative;}#sk-container-id-4 div.sk-item::before, #sk-container-id-4 div.sk-parallel-item::before {content: \"\";position: absolute;border-left: 1px solid gray;box-sizing: border-box;top: 0;bottom: 0;left: 50%;z-index: -1;}#sk-container-id-4 div.sk-parallel-item {display: flex;flex-direction: column;z-index: 1;position: relative;background-color: white;}#sk-container-id-4 div.sk-parallel-item:first-child::after {align-self: flex-end;width: 50%;}#sk-container-id-4 div.sk-parallel-item:last-child::after {align-self: flex-start;width: 50%;}#sk-container-id-4 div.sk-parallel-item:only-child::after {width: 0;}#sk-container-id-4 div.sk-dashed-wrapped {border: 1px dashed gray;margin: 0 0.4em 0.5em 0.4em;box-sizing: border-box;padding-bottom: 0.4em;background-color: white;}#sk-container-id-4 div.sk-label label {font-family: monospace;font-weight: bold;display: inline-block;line-height: 1.2em;}#sk-container-id-4 div.sk-label-container {text-align: center;}#sk-container-id-4 div.sk-container {/* jupyter's `normalize.less` sets `[hidden] { display: none; }` but bootstrap.min.css set `[hidden] { display: none !important; }` so we also need the `!important` here to be able to override the default hidden behavior on the sphinx rendered scikit-learn.org. See: https://github.com/scikit-learn/scikit-learn/issues/21755 */display: inline-block !important;position: relative;}#sk-container-id-4 div.sk-text-repr-fallback {display: none;}</style><div id=\"sk-container-id-4\" class=\"sk-top-container\"><div class=\"sk-text-repr-fallback\"><pre>RandomForestClassifier(random_state=0)</pre><b>In a Jupyter environment, please rerun this cell to show the HTML representation or trust the notebook. <br />On GitHub, the HTML representation is unable to render, please try loading this page with nbviewer.org.</b></div><div class=\"sk-container\" hidden><div class=\"sk-item\"><div class=\"sk-estimator sk-toggleable\"><input class=\"sk-toggleable__control sk-hidden--visually\" id=\"sk-estimator-id-4\" type=\"checkbox\" checked><label for=\"sk-estimator-id-4\" class=\"sk-toggleable__label sk-toggleable__label-arrow\">RandomForestClassifier</label><div class=\"sk-toggleable__content\"><pre>RandomForestClassifier(random_state=0)</pre></div></div></div></div></div>"
      ],
      "text/plain": [
       "RandomForestClassifier(random_state=0)"
      ]
     },
     "execution_count": 41,
     "metadata": {},
     "output_type": "execute_result"
    }
   ],
   "source": [
    "RFC = RandomForestClassifier(random_state = 0)\n",
    "RFC.fit(xv_train, y_train)"
   ]
  },
  {
   "cell_type": "code",
   "execution_count": 42,
   "id": "c49f7bb6",
   "metadata": {},
   "outputs": [
    {
     "data": {
      "text/plain": [
       "0.7738196211478654"
      ]
     },
     "execution_count": 42,
     "metadata": {},
     "output_type": "execute_result"
    }
   ],
   "source": [
    "RFC.score(xv_test, y_test)"
   ]
  },
  {
   "cell_type": "code",
   "execution_count": 43,
   "id": "9eb00c92",
   "metadata": {},
   "outputs": [],
   "source": [
    "pred_RFC = RFC.predict(xv_test)"
   ]
  },
  {
   "cell_type": "code",
   "execution_count": 44,
   "id": "a27cf6b8",
   "metadata": {},
   "outputs": [
    {
     "name": "stdout",
     "output_type": "stream",
     "text": [
      "              precision    recall  f1-score   support\n",
      "\n",
      "           0       0.77      0.66      0.71      1471\n",
      "           1       0.78      0.86      0.82      2066\n",
      "\n",
      "    accuracy                           0.77      3537\n",
      "   macro avg       0.77      0.76      0.76      3537\n",
      "weighted avg       0.77      0.77      0.77      3537\n",
      "\n"
     ]
    }
   ],
   "source": [
    "print(classification_report(y_test, pred_RFC))"
   ]
  },
  {
   "cell_type": "code",
   "execution_count": 45,
   "id": "4a0c669a",
   "metadata": {},
   "outputs": [
    {
     "data": {
      "text/plain": [
       "7.812107241570805"
      ]
     },
     "execution_count": 45,
     "metadata": {},
     "output_type": "execute_result"
    }
   ],
   "source": [
    "logloss = log_loss(y_test, pred_RFC)\n",
    "logloss"
   ]
  },
  {
   "cell_type": "markdown",
   "id": "505bb7b8",
   "metadata": {},
   "source": [
    "#### Manual Testing"
   ]
  },
  {
   "cell_type": "code",
   "execution_count": 46,
   "id": "cd8d24b8",
   "metadata": {},
   "outputs": [],
   "source": [
    "def output_label(n):\n",
    "    if n == 0:\n",
    "        return \"Clickbait\"\n",
    "    elif n == 1:\n",
    "        return \"Non-clickbait\"\n",
    "\n",
    "def manual_testing(news):\n",
    "    testing_news = {\"content\":[news]}\n",
    "    new_def_test = pd.DataFrame(testing_news)\n",
    "    new_def_test[\"content\"] = new_def_test[\"content\"].apply(word_drop)\n",
    "    new_x_test = new_def_test[\"content\"]\n",
    "    new_xv_test = vectorization.transform(new_x_test)\n",
    "    pred_LR = LR.predict(new_xv_test)\n",
    "    pred_DT = DT.predict(new_xv_test)\n",
    "    pred_GBC = GBC.predict(new_xv_test)\n",
    "    pred_RFC = RFC.predict(new_xv_test)\n",
    "    \n",
    "    return print(\"\\n\\nLR Prediction: {} \\nDT Prediction: {} \\nGBC Prediction: {} \\nRFC Prediction: {}\".format(output_label(pred_LR[0]),\n",
    "                                                                                                              output_label(pred_DT[0]), \n",
    "                                                                                                              output_label(pred_GBC[0]), \n",
    "                                                                                                              output_label(pred_RFC[0])))"
   ]
  },
  {
   "cell_type": "code",
   "execution_count": null,
   "id": "a8015274",
   "metadata": {
    "scrolled": true
   },
   "outputs": [],
   "source": [
    "news = str(input())\n",
    "manual_testing(news)"
   ]
  },
  {
   "cell_type": "markdown",
   "id": "081e42c7",
   "metadata": {},
   "source": []
  },
  {
   "cell_type": "code",
   "execution_count": null,
   "id": "45468d43",
   "metadata": {},
   "outputs": [],
   "source": []
  }
 ],
 "metadata": {
  "kernelspec": {
   "display_name": "Python 3 (ipykernel)",
   "language": "python",
   "name": "python3"
  },
  "language_info": {
   "codemirror_mode": {
    "name": "ipython",
    "version": 3
   },
   "file_extension": ".py",
   "mimetype": "text/x-python",
   "name": "python",
   "nbconvert_exporter": "python",
   "pygments_lexer": "ipython3",
   "version": "3.9.12"
  }
 },
 "nbformat": 4,
 "nbformat_minor": 5
}
